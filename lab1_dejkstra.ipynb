{
  "metadata": {
    "kernelspec": {
      "name": "python",
      "display_name": "Python (Pyodide)",
      "language": "python"
    },
    "language_info": {
      "codemirror_mode": {
        "name": "python",
        "version": 3
      },
      "file_extension": ".py",
      "mimetype": "text/x-python",
      "name": "python",
      "nbconvert_exporter": "python",
      "pygments_lexer": "ipython3",
      "version": "3.8"
    }
  },
  "nbformat_minor": 5,
  "nbformat": 4,
  "cells": [
    {
      "id": "077efeda-60a5-422d-935a-5717d62fd29d",
      "cell_type": "code",
      "source": "import math\n\ndef dijkstra(graph, start_v):\n    \"\"\"\n    Скрипт реализует алгоритм Дейкстры для поиска кратчайших путей от произвольной начальной вершины до всех остальных.\n    :param graph: матрица смежности\n    :param start_v: индекс начальной вершины\n    :return: два списка:\n        - dist: кратчайшие расстояния до каждой вершины\n        - prev: предыдущие вершины на кратчайшем пути\n    \"\"\"\n    num_v = len(graph)\n    dist = [math.inf] * num_v  # расстояния до вершин\n    prev = [None] * num_v     # предыдущие вершины в путях\n    visited = [False] * num_v # посещенные вершины\n\n    dist[start_v] = 0\n\n    for _ in range(num_v):  # выбираем не посещённую вершину с минимальным расстоянием\n        min_dist = math.inf\n        u = None\n        for v in range(num_v):\n            if not visited[v] and dist[v] < min_dist:\n                min_dist = dist[v]\n                u = v\n\n        if u is None:\n            break  # все оставшиеся вершины недостижимы\n\n        visited[u] = True\n\n        # обновляем расстояния для смежных вершин\n        for v in range(num_v):\n            if graph[u][v] != 0 and not visited[v]:\n                alt = dist[u] + graph[u][v]\n                if alt < dist[v]:\n                    dist[v] = alt\n                    prev[v] = u\n\n    return dist, prev\n\ndef reconstruct_path(prev, start, end):\n    \"\"\"\n    Восстановить путь из одной вершины start в целевую end по списку prev.\n    :param start: начальная вершина\n    :param end: целевая вершина\n    :param prev: список предыдущих вершин\n    :return: список вершин пути или пустой список, если путь не существует\n    \"\"\"\n    path = []\n    at = end\n    while at is not None:\n        path.append(at)\n        at = prev[at]\n    path.reverse()\n    \n    if path[0] == start:\n        return path\n    else:\n        return []\n\n# Пример использования:\n\n# Граф в виде матрицы смежности (0 — отсутствие ребра)\ngraph = [\n    [0, 7, 9, 0, 0, 15],          # вершина 0\n    [7, 0, 10, 17, 0, 0],         # вершина 1\n    [9, 10, 0, 4, 0, 2],          # вершина 2\n    [0, 17, 4, 0, 6, 0],          # вершина 3\n    [0, 0, 0, 6, 0, 9],           # вершина 4\n    [15, 0, 2, 0, 9, 0]           # вершина 5\n]\n\nstart_v = 2\n\ndistances, previous = dijkstra(graph, start_v)\n\n# Путь до всех вершин\nfor v in range(len(graph)):\n    end_v = v\n    path = reconstruct_path(previous, start_v, end_v)\n    print(f\"Самый короткий путь от {start_v} до {end_v}: {path}\")",
      "metadata": {
        "trusted": true
      },
      "outputs": [
        {
          "name": "stdout",
          "output_type": "stream",
          "text": "Самый короткий путь от 2 до 0: [2, 0]\nСамый короткий путь от 2 до 1: [2, 1]\nСамый короткий путь от 2 до 2: [2]\nСамый короткий путь от 2 до 3: [2, 3]\nСамый короткий путь от 2 до 4: [2, 3, 4]\nСамый короткий путь от 2 до 5: [2, 5]\n"
        }
      ],
      "execution_count": 16
    },
    {
      "id": "5d97721f-7acc-4ab2-b6ec-d9ddab8e65a8",
      "cell_type": "code",
      "source": "",
      "metadata": {
        "trusted": true
      },
      "outputs": [],
      "execution_count": null
    }
  ]
}