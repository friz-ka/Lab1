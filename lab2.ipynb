{
 "cells": [
  {
   "cell_type": "code",
   "execution_count": 2,
   "id": "f1232347",
   "metadata": {},
   "outputs": [
    {
     "name": "stdout",
     "output_type": "stream",
     "text": [
      "c(0)= 0.707107\n",
      "c(1)= 0.408248\n",
      "c(2)= 0.408248\n",
      "c(3)= 0.408248\n"
     ]
    }
   ],
   "source": [
    "import networkx as nx\n",
    "\n",
    "edge = [(0, 1), (0, 2), (0, 3)]\n",
    "G = nx.Graph(edge)\n",
    "\n",
    "centrality = nx.eigenvector_centrality_numpy(G)\n",
    "for n in centrality:\n",
    "    print(f\"c({n})= {centrality[n]:4f}\")"
   ]
  },
  {
   "cell_type": "code",
   "execution_count": null,
   "id": "9318e102",
   "metadata": {},
   "outputs": [],
   "source": []
  },
  {
   "cell_type": "code",
   "execution_count": null,
   "id": "03413c1e",
   "metadata": {},
   "outputs": [],
   "source": []
  },
  {
   "cell_type": "code",
   "execution_count": null,
   "id": "391983b7",
   "metadata": {},
   "outputs": [],
   "source": []
  },
  {
   "cell_type": "code",
   "execution_count": null,
   "id": "a7c808f1",
   "metadata": {},
   "outputs": [],
   "source": []
  }
 ],
 "metadata": {
  "kernelspec": {
   "display_name": "Python 3 (ipykernel)",
   "language": "python",
   "name": "python3"
  },
  "language_info": {
   "codemirror_mode": {
    "name": "ipython",
    "version": 3
   },
   "file_extension": ".py",
   "mimetype": "text/x-python",
   "name": "python",
   "nbconvert_exporter": "python",
   "pygments_lexer": "ipython3",
   "version": "3.11.4"
  }
 },
 "nbformat": 4,
 "nbformat_minor": 5
}
