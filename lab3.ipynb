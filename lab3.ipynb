{
  "metadata": {
    "kernelspec": {
      "name": "python",
      "display_name": "Python (Pyodide)",
      "language": "python"
    },
    "language_info": {
      "codemirror_mode": {
        "name": "python",
        "version": 3
      },
      "file_extension": ".py",
      "mimetype": "text/x-python",
      "name": "python",
      "nbconvert_exporter": "python",
      "pygments_lexer": "ipython3",
      "version": "3.8"
    }
  },
  "nbformat_minor": 5,
  "nbformat": 4,
  "cells": [
    {
      "id": "484327fb-6249-4152-90f8-81674fabf4dd",
      "cell_type": "code",
      "source": "import networkx as nx\nn = 25\np = 0.9\nG = nx.erdos_renyi_graph(n, p)\na = 0\nfor i in G.nodes():\n    a = a + G.degree(i)\nprint(f'Средняя степень вершин графа: {float(a)/len(G.nodes())}')\nprint(f'Средняя степень вершины графа по формуле: {(n-1)*p}')",
      "metadata": {
        "trusted": true
      },
      "outputs": [
        {
          "name": "stdout",
          "output_type": "stream",
          "text": "Средняя степень вершин графа: 21.36\nСредняя степень вершины графа по формуле: 21.6\n"
        }
      ],
      "execution_count": 6
    },
    {
      "id": "0c66278c-4b99-4c72-a1c6-7c6372f024d6",
      "cell_type": "code",
      "source": "",
      "metadata": {
        "trusted": true
      },
      "outputs": [],
      "execution_count": null
    }
  ]
}